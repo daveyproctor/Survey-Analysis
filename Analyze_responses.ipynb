{
 "cells": [
  {
   "cell_type": "code",
   "execution_count": 1,
   "metadata": {
    "collapsed": true
   },
   "outputs": [],
   "source": [
    "%matplotlib inline\n",
    "import numpy as np\n",
    "import matplotlib.pylab as plt\n",
    "from astropy.io import ascii"
   ]
  },
  {
   "cell_type": "code",
   "execution_count": 2,
   "metadata": {
    "collapsed": true
   },
   "outputs": [],
   "source": [
    "data = ascii.read('responses.csv')"
   ]
  },
  {
   "cell_type": "code",
   "execution_count": 3,
   "metadata": {
    "collapsed": false
   },
   "outputs": [
    {
     "data": {
      "text/plain": [
       "['Timestamp',\n",
       " 'Concentration (or best guess)',\n",
       " 'Secondary (if applicable)',\n",
       " 'Graduation Year',\n",
       " 'Prior CS background:',\n",
       " 'Do you have plans to take any CS courses in the future?',\n",
       " 'Are you interested in getting a:',\n",
       " 'Are you interested in pursuing a job with a quantitative focus after graduation?',\n",
       " 'Have you ever considered taking a computer science course? If not, why not? If you have considered it, why did you decide not to take it?',\n",
       " 'In your opinion, should some programming knowledge be a requirement for graduation? If not, why not? If so, why?',\n",
       " 'What three words best describe a computer science concentrator at Harvard?',\n",
       " 'What made you decide to take your first CS course?',\n",
       " 'What were your impressions of CS students before you took your first class? After?',\n",
       " 'How accessible was the professor of this class?',\n",
       " 'How accessible were the teaching fellows of this class?',\n",
       " 'Do you think you\\xe2\\x80\\x99ll take another CS class? If so, why? If not, why not?',\n",
       " \"How good are you at programming compared to others in the CS classes you've taken?\",\n",
       " \"How good are you at CS theory compared to others in the CS classes you've taken?\",\n",
       " 'What CS classes have you taken or are currently taking?',\n",
       " 'What is your estimated concentration GPA?',\n",
       " 'How many years have you been programming?',\n",
       " 'How often do you go to office hours on average for your CS classes?',\n",
       " 'How often do you think the average CS student goes to office hours?',\n",
       " 'How accessible are professors in your CS classes?',\n",
       " 'How accessible are teaching fellows in your CS classes?',\n",
       " 'How often do you interact with your CS class course staff?',\n",
       " 'How involved do you feel with the CS community at Harvard?',\n",
       " 'Do you consider yourself a member of any tech student organizations on campus? If yes, specify which ones.',\n",
       " 'How easy is it to find partners to work with on psets or final projects?',\n",
       " 'Are there any specific classes in which finding partners has been hard?',\n",
       " 'How have you met people to work on class material with?',\n",
       " 'I like CS because it gives me a tool to make a difference in other areas I care about.',\n",
       " 'I like CS because I am interested in the CS problems I get to think about and solve.',\n",
       " 'If you are a sophomore, junior, or senior, what did you do last summer?',\n",
       " 'How stressful is the process of finding a summer internship/job?',\n",
       " 'Have you ever been referred to a tech internship or full-time position? If so, how many times?',\n",
       " 'Do you have a role model and/or mentor in CS? If so, who?',\n",
       " 'Do you feel like you need more support in CS from:',\n",
       " 'What three words would you use to describe a computer science concentrator?',\n",
       " 'What will you most likely pursue after graduation?',\n",
       " 'What type of graduate school are you interested in?',\n",
       " 'What subfield in tech industry would you be interested in working in?',\n",
       " 'What gender do you identify with',\n",
       " 'What race(s) do you identify with?',\n",
       " 'By your estimates, is there a gender gap in enrollment in CS classes?',\n",
       " 'If yes, what factors (related or unrelated to college) do you think cause this gap?',\n",
       " 'If yes, what is the impact of this gender gap on your experience of CS at Harvard?']"
      ]
     },
     "execution_count": 3,
     "metadata": {},
     "output_type": "execute_result"
    }
   ],
   "source": [
    "data.colnames"
   ]
  },
  {
   "cell_type": "code",
   "execution_count": 4,
   "metadata": {
    "collapsed": false
   },
   "outputs": [],
   "source": [
    "def gender_spec_resps(gender,col):\n",
    "    resps = data[col]\n",
    "    genders = data['What gender do you identify with']\n",
    "    spec_resps = [item for i, item in enumerate(resps) if item == item and genders[i] == gender]\n",
    "    return spec_resps"
   ]
  },
  {
   "cell_type": "code",
   "execution_count": 26,
   "metadata": {
    "collapsed": true
   },
   "outputs": [],
   "source": [
    "def gender_summary(col):\n",
    "    male_col_resps = gender_spec_resps('Male',col)\n",
    "    female_col_resps = gender_spec_resps('Female',col)\n",
    "    print 'Question asked:', col\n",
    "    print 'Number Male Responders:', len(male_col_resps)\n",
    "    print 'Mean for Males:', \"%.2f\" % np.mean(male_col_resps)\n",
    "    print 'Number Female Responders:', len(female_col_resps)\n",
    "    print 'Mean for Female:', \"%.2f\" % np.mean(female_col_resps)\n",
    "    print"
   ]
  },
  {
   "cell_type": "code",
   "execution_count": 31,
   "metadata": {
    "collapsed": true
   },
   "outputs": [],
   "source": [
    "questions = ['I like CS because I am interested in the CS problems I get to think about and solve.',\n",
    "             'I like CS because it gives me a tool to make a difference in other areas I care about.',\n",
    "             'How accessible was the professor of this class?',\n",
    "             'How accessible were the teaching fellows of this class?',\n",
    "             'Graduation Year',\n",
    "             'How accessible are professors in your CS classes?'\n",
    "            ]"
   ]
  },
  {
   "cell_type": "code",
   "execution_count": 32,
   "metadata": {
    "collapsed": false
   },
   "outputs": [
    {
     "name": "stdout",
     "output_type": "stream",
     "text": [
      "Question asked: I like CS because I am interested in the CS problems I get to think about and solve.\n",
      "Number Male Responders: 82\n",
      "Mean for Males: 4.35\n",
      "Number Female Responders: 62\n",
      "Mean for Female: 4.32\n",
      "\n",
      "Question asked: I like CS because it gives me a tool to make a difference in other areas I care about.\n",
      "Number Male Responders: 82\n",
      "Mean for Males: 4.30\n",
      "Number Female Responders: 62\n",
      "Mean for Female: 4.26\n",
      "\n",
      "Question asked: How accessible was the professor of this class?\n",
      "Number Male Responders: 75\n",
      "Mean for Males: 2.59\n",
      "Number Female Responders: 65\n",
      "Mean for Female: 2.52\n",
      "\n",
      "Question asked: How accessible were the teaching fellows of this class?\n",
      "Number Male Responders: 75\n",
      "Mean for Males: 3.99\n",
      "Number Female Responders: 65\n",
      "Mean for Female: 4.18\n",
      "\n",
      "Question asked: Graduation Year\n",
      "Number Male Responders: 202\n",
      "Mean for Males: 2018.66\n",
      "Number Female Responders: 219\n",
      "Mean for Female: 2018.55\n",
      "\n",
      "Question asked: How accessible are professors in your CS classes?\n",
      "Number Male Responders: 82\n",
      "Mean for Males: 3.16\n",
      "Number Female Responders: 62\n",
      "Mean for Female: 2.63\n",
      "\n"
     ]
    }
   ],
   "source": [
    "for col in questions:\n",
    "    gender_summary(col)"
   ]
  },
  {
   "cell_type": "code",
   "execution_count": null,
   "metadata": {
    "collapsed": true
   },
   "outputs": [],
   "source": []
  },
  {
   "cell_type": "code",
   "execution_count": null,
   "metadata": {
    "collapsed": true
   },
   "outputs": [],
   "source": []
  },
  {
   "cell_type": "code",
   "execution_count": null,
   "metadata": {
    "collapsed": true
   },
   "outputs": [],
   "source": []
  },
  {
   "cell_type": "code",
   "execution_count": 12,
   "metadata": {
    "collapsed": false
   },
   "outputs": [
    {
     "ename": "NameError",
     "evalue": "name 'SCRAP' is not defined",
     "output_type": "error",
     "traceback": [
      "\u001b[0;31m---------------------------------------------------------------------------\u001b[0m",
      "\u001b[0;31mNameError\u001b[0m                                 Traceback (most recent call last)",
      "\u001b[0;32m<ipython-input-12-7be23be0cc0c>\u001b[0m in \u001b[0;36m<module>\u001b[0;34m()\u001b[0m\n\u001b[0;32m----> 1\u001b[0;31m \u001b[0mSCRAP\u001b[0m\u001b[0;34m\u001b[0m\u001b[0m\n\u001b[0m",
      "\u001b[0;31mNameError\u001b[0m: name 'SCRAP' is not defined"
     ]
    }
   ],
   "source": [
    "SCRAP"
   ]
  },
  {
   "cell_type": "code",
   "execution_count": null,
   "metadata": {
    "collapsed": true
   },
   "outputs": [],
   "source": [
    "grads = data['Graduation Year']"
   ]
  },
  {
   "cell_type": "code",
   "execution_count": null,
   "metadata": {
    "collapsed": false
   },
   "outputs": [],
   "source": [
    "len(grads)"
   ]
  },
  {
   "cell_type": "code",
   "execution_count": null,
   "metadata": {
    "collapsed": false
   },
   "outputs": [],
   "source": [
    "hist, bins = np.histogram(grads, bins=10)\n",
    "plt.plot(bins[:-1],hist, ls='steps')"
   ]
  },
  {
   "cell_type": "code",
   "execution_count": null,
   "metadata": {
    "collapsed": false
   },
   "outputs": [],
   "source": [
    "problem_solvers = data['I like CS because I am interested in the CS problems I get to think about and solve.']\n",
    "# problem_solvers"
   ]
  },
  {
   "cell_type": "code",
   "execution_count": null,
   "metadata": {
    "collapsed": false
   },
   "outputs": [],
   "source": [
    "genders = data['What gender do you identify with']"
   ]
  },
  {
   "cell_type": "code",
   "execution_count": null,
   "metadata": {
    "collapsed": true
   },
   "outputs": [],
   "source": [
    "zip_genders_probsolv = zip(genders, problem_solvers)"
   ]
  },
  {
   "cell_type": "code",
   "execution_count": null,
   "metadata": {
    "collapsed": false
   },
   "outputs": [],
   "source": [
    "zip_genders_probsolv"
   ]
  },
  {
   "cell_type": "code",
   "execution_count": null,
   "metadata": {
    "collapsed": false
   },
   "outputs": [],
   "source": [
    "zip_genders_probsolv[0][1]"
   ]
  },
  {
   "cell_type": "code",
   "execution_count": null,
   "metadata": {
    "collapsed": false
   },
   "outputs": [],
   "source": [
    "female_probsolv_resps = [item[1] for item in zip_genders_probsolv if item[0] == 'Female']\n",
    "arr = np.array(female_probsolv_resps)\n",
    "arr"
   ]
  },
  {
   "cell_type": "code",
   "execution_count": null,
   "metadata": {
    "collapsed": false
   },
   "outputs": [],
   "source": [
    "arr2 = [val for val in arr if val == val]\n",
    "print 'avg prob solv female:', np.mean(arr2)"
   ]
  },
  {
   "cell_type": "code",
   "execution_count": null,
   "metadata": {
    "collapsed": false
   },
   "outputs": [],
   "source": [
    "hist, bins = np.histogram(arr2, bins=[1,2,3,4,5,6])\n",
    "plt.scatter(bins[:-1],hist) #, ls='steps')"
   ]
  },
  {
   "cell_type": "code",
   "execution_count": null,
   "metadata": {
    "collapsed": false
   },
   "outputs": [],
   "source": [
    "print bins\n",
    "print hist"
   ]
  },
  {
   "cell_type": "code",
   "execution_count": null,
   "metadata": {
    "collapsed": false
   },
   "outputs": [],
   "source": [
    "for i in range(1,6):\n",
    "    print i, ': ', len([item for item in arr2 if item == float(i)])"
   ]
  },
  {
   "cell_type": "code",
   "execution_count": 5,
   "metadata": {
    "collapsed": true
   },
   "outputs": [],
   "source": [
    "male_prob_solve = gender_spec_resps('Male','I like CS because I am interested in the CS problems I get to think about and solve.')"
   ]
  },
  {
   "cell_type": "code",
   "execution_count": 6,
   "metadata": {
    "collapsed": false
   },
   "outputs": [
    {
     "name": "stdout",
     "output_type": "stream",
     "text": [
      "in 82 responses, the mean was 4.35365853659\n"
     ]
    }
   ],
   "source": [
    "print 'in', len(male_prob_solve), 'responses, the mean was', np.mean(male_prob_solve)"
   ]
  },
  {
   "cell_type": "code",
   "execution_count": 7,
   "metadata": {
    "collapsed": true
   },
   "outputs": [],
   "source": [
    "female_prob_solve = gender_spec_resps('Female','I like CS because I am interested in the CS problems I get to think about and solve.')"
   ]
  },
  {
   "cell_type": "code",
   "execution_count": 8,
   "metadata": {
    "collapsed": false
   },
   "outputs": [
    {
     "name": "stdout",
     "output_type": "stream",
     "text": [
      "in 62 responses, the mean was 4.35365853659\n"
     ]
    }
   ],
   "source": [
    "print 'in', len(female_prob_solve), 'responses, the mean was', np.mean(male_prob_solve)"
   ]
  }
 ],
 "metadata": {
  "kernelspec": {
   "display_name": "Python 2",
   "language": "python",
   "name": "python2"
  },
  "language_info": {
   "codemirror_mode": {
    "name": "ipython",
    "version": 2
   },
   "file_extension": ".py",
   "mimetype": "text/x-python",
   "name": "python",
   "nbconvert_exporter": "python",
   "pygments_lexer": "ipython2",
   "version": "2.7.12"
  }
 },
 "nbformat": 4,
 "nbformat_minor": 1
}
